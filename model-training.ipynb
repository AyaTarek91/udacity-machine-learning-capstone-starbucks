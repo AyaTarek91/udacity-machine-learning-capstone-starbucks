{
 "cells": [
  {
   "cell_type": "markdown",
   "metadata": {},
   "source": [
    "# Training the Model\n",
    "\n",
    "In this notebook we will train our three models `Logistic Regression, Decision Tree and Random Forest`, and compare the accuracy to decide which model is the best for our data to classify the customer response.\n",
    "\n",
    "\n",
    "#### To train my models, I will be using:\n",
    "1. Cross validation method to get the best training data to avoid over and under fitting.\n",
    "2. Grid search for parameter selection and comparing accuricies of different hyper-parameters and to select the best parameter for each model.\n",
    "\n"
   ]
  },
  {
   "cell_type": "code",
   "execution_count": 1,
   "metadata": {},
   "outputs": [],
   "source": [
    "#import needed libraries\n",
    "import pandas as pd\n",
    "import numpy as np\n",
    "import math\n",
    "import json\n",
    "% matplotlib inline\n",
    "import matplotlib.pyplot as plt\n",
    "import os\n",
    "\n",
    "pd.set_option('display.max_columns', None)"
   ]
  },
  {
   "cell_type": "markdown",
   "metadata": {},
   "source": [
    "#### Features and target data download"
   ]
  },
  {
   "cell_type": "code",
   "execution_count": 2,
   "metadata": {},
   "outputs": [],
   "source": [
    "directory = 'uploaded_data'\n",
    "train_data = pd.read_csv(os.path.join(directory, 'train.csv'), header=None)\n",
    "X_train = train_data.iloc[:, :-1].values #all until last column\n",
    "Y_train = train_data.iloc[:, -1].values #only last column\n",
    "\n",
    "test_data = pd.read_csv(os.path.join(directory, 'test.csv'), header=None)\n",
    "X_test = test_data.iloc[:, :-1].values #all until last column\n",
    "Y_test = test_data.iloc[:, -1].values #only last column"
   ]
  },
  {
   "cell_type": "markdown",
   "metadata": {},
   "source": [
    "### Logisitic Regression"
   ]
  },
  {
   "cell_type": "code",
   "execution_count": 3,
   "metadata": {},
   "outputs": [],
   "source": [
    "from sklearn.linear_model import LogisticRegression\n",
    "from sklearn.model_selection import cross_val_score\n",
    "from sklearn.model_selection import GridSearchCV "
   ]
  },
  {
   "cell_type": "markdown",
   "metadata": {},
   "source": [
    "I will split the data into 4 folds, cross_val_score will divide them into 3 training sets and 1 testing set, so the test is 25% of the training data set, which is 20% of the total data."
   ]
  },
  {
   "cell_type": "code",
   "execution_count": 4,
   "metadata": {},
   "outputs": [
    {
     "data": {
      "text/plain": [
       "array([0.743866  , 0.75181094, 0.75679102, 0.75552336])"
      ]
     },
     "metadata": {},
     "output_type": "display_data"
    },
    {
     "name": "stdout",
     "output_type": "stream",
     "text": [
      "Accuracy: 75.20%\n"
     ]
    }
   ],
   "source": [
    "#Cross Validation scores on 4 folds \n",
    "lr = LogisticRegression()\n",
    "scores_arr = cross_val_score(lr,X_train,Y_train,cv=4,n_jobs=-1)\n",
    "display(scores_arr)\n",
    "print(\"Accuracy: %.2f%%\" % (scores_arr.mean()*100.0))"
   ]
  },
  {
   "cell_type": "code",
   "execution_count": 5,
   "metadata": {},
   "outputs": [
    {
     "name": "stderr",
     "output_type": "stream",
     "text": [
      "/home/ec2-user/anaconda3/envs/python3/lib/python3.6/site-packages/sklearn/linear_model/logistic.py:433: FutureWarning: Default solver will be changed to 'lbfgs' in 0.22. Specify a solver to silence this warning.\n",
      "  FutureWarning)\n"
     ]
    },
    {
     "name": "stdout",
     "output_type": "stream",
     "text": [
      "LR best parameter: {'C': 1, 'max_iter': 50}\n",
      "LR best score: 75.20%\n",
      "LR best estimator: LogisticRegression(C=1, class_weight=None, dual=False, fit_intercept=True,\n",
      "          intercept_scaling=1, max_iter=50, multi_class='warn',\n",
      "          n_jobs=None, penalty='l2', random_state=None, solver='warn',\n",
      "          tol=0.0001, verbose=0, warm_start=False)\n"
     ]
    }
   ],
   "source": [
    "#Grid search to find the best parameters to fit to maximize the cross validation scores\n",
    "gridsearch_param = {\n",
    "    'C': [0.1,1,10,100],\n",
    "    'max_iter' : [50,100,1000,10000],\n",
    "}\n",
    "\n",
    "gsv_lr = GridSearchCV(estimator=lr,param_grid=gridsearch_param,\\\n",
    "                   cv=4, n_jobs=-1,scoring ='accuracy')\n",
    "\n",
    "lr_model = gsv_lr.fit(X_train,Y_train)\n",
    "\n",
    "best_lr_parameters = gsv_lr.best_params_\n",
    "best_lr_score = gsv_lr.best_score_\n",
    "best_lr_estimator = gsv_lr.best_estimator_\n",
    "\n",
    "print('LR best parameter:',best_lr_parameters)\n",
    "print(\"LR best score: %.2f%%\" % (best_lr_score*100.0))\n",
    "print('LR best estimator:',best_lr_estimator)"
   ]
  },
  {
   "cell_type": "markdown",
   "metadata": {},
   "source": [
    "### Decision Tree"
   ]
  },
  {
   "cell_type": "code",
   "execution_count": 6,
   "metadata": {},
   "outputs": [
    {
     "data": {
      "text/plain": [
       "array([0.75002263, 0.75316914, 0.76014125, 0.75715321])"
      ]
     },
     "metadata": {},
     "output_type": "display_data"
    },
    {
     "name": "stdout",
     "output_type": "stream",
     "text": [
      "Min Accuracy: 75.51%\n"
     ]
    }
   ],
   "source": [
    "from sklearn.tree import DecisionTreeClassifier\n",
    "dtc= DecisionTreeClassifier()\n",
    "scores_arr = cross_val_score(dtc,X_train,Y_train,cv=4,n_jobs=-1)\n",
    "display(scores_arr)\n",
    "print(\"Min Accuracy: %.2f%%\" % (scores_arr.mean()*100.0))"
   ]
  },
  {
   "cell_type": "code",
   "execution_count": 7,
   "metadata": {},
   "outputs": [
    {
     "name": "stdout",
     "output_type": "stream",
     "text": [
      "DT best parameter: {'criterion': 'entropy', 'max_depth': 8, 'min_samples_split': 3, 'splitter': 'best'}\n",
      "DT best score: 77.27%\n",
      "DT best estimator: DecisionTreeClassifier(class_weight=None, criterion='entropy', max_depth=8,\n",
      "            max_features=None, max_leaf_nodes=None,\n",
      "            min_impurity_decrease=0.0, min_impurity_split=None,\n",
      "            min_samples_leaf=1, min_samples_split=3,\n",
      "            min_weight_fraction_leaf=0.0, presort=False, random_state=None,\n",
      "            splitter='best')\n"
     ]
    }
   ],
   "source": [
    "#Grid search to find the best parameters to fit to maximize the cross validation scores\n",
    "gridsearch_param = {\n",
    "    'max_depth': [4,6,8,9,10,20],\n",
    "    'splitter' : ['best', 'random'],\n",
    "    'min_samples_split' : np.arange(3, 15),\n",
    "    'criterion' : ['gini', 'entropy']\n",
    "}\n",
    "\n",
    "gsv_dt = GridSearchCV(estimator=dtc,param_grid=gridsearch_param,\\\n",
    "                   cv=4, n_jobs=-1)\n",
    "\n",
    "dt_model = gsv_dt.fit(X_train,Y_train)\n",
    "\n",
    "\n",
    "best_dt_parameters = gsv_dt.best_params_\n",
    "best_dt_score = gsv_dt.best_score_\n",
    "best_dt_estimator = gsv_dt.best_estimator_\n",
    "\n",
    "print('DT best parameter:',best_dt_parameters)\n",
    "print(\"DT best score: %.2f%%\" % (best_dt_score*100.0))\n",
    "print('DT best estimator:',best_dt_estimator)"
   ]
  },
  {
   "cell_type": "markdown",
   "metadata": {},
   "source": [
    "### Random forest"
   ]
  },
  {
   "cell_type": "code",
   "execution_count": 8,
   "metadata": {},
   "outputs": [
    {
     "data": {
      "text/plain": [
       "array([0.75382526, 0.7559761 , 0.76095618, 0.76331039])"
      ]
     },
     "metadata": {},
     "output_type": "display_data"
    },
    {
     "name": "stdout",
     "output_type": "stream",
     "text": [
      "Min Accuracy: 75.85%\n"
     ]
    }
   ],
   "source": [
    "from sklearn.ensemble import RandomForestClassifier\n",
    "rf= RandomForestClassifier()\n",
    "scores_arr = cross_val_score(rf,X_train,Y_train,cv=4,n_jobs=-1)\n",
    "display(scores_arr)\n",
    "print(\"Min Accuracy: %.2f%%\" % (scores_arr.mean()*100.0))"
   ]
  },
  {
   "cell_type": "code",
   "execution_count": 9,
   "metadata": {},
   "outputs": [
    {
     "name": "stdout",
     "output_type": "stream",
     "text": [
      "RF best parameter: {'criterion': 'entropy', 'max_depth': 10, 'min_samples_split': 9, 'n_estimators': 100}\n",
      "RF best score: 77.38%\n",
      "RF best estimator: RandomForestClassifier(bootstrap=True, class_weight=None, criterion='entropy',\n",
      "            max_depth=10, max_features='auto', max_leaf_nodes=None,\n",
      "            min_impurity_decrease=0.0, min_impurity_split=None,\n",
      "            min_samples_leaf=1, min_samples_split=9,\n",
      "            min_weight_fraction_leaf=0.0, n_estimators=100, n_jobs=None,\n",
      "            oob_score=False, random_state=None, verbose=0,\n",
      "            warm_start=False)\n"
     ]
    }
   ],
   "source": [
    "#Grid search to find the best parameters to fit to maximize the cross validation scores\n",
    "gridsearch_param = {\n",
    "    'max_depth': [4,6,8,10,12],\n",
    "    'n_estimators' : [20,50,100,200],\n",
    "    'min_samples_split' : np.arange(3, 15),\n",
    "    'criterion' : ['gini', 'entropy']\n",
    "}\n",
    "\n",
    "gsv_rf = GridSearchCV(estimator=rf,param_grid=gridsearch_param,\\\n",
    "                   cv=4, n_jobs=-1)\n",
    "\n",
    "rf_model = gsv_rf.fit(X_train,Y_train)\n",
    "\n",
    "\n",
    "best_rf_parameters = gsv_rf.best_params_\n",
    "best_rf_score = gsv_rf.best_score_\n",
    "best_rf_estimator = gsv_rf.best_estimator_\n",
    "\n",
    "print('RF best parameter:',best_rf_parameters)\n",
    "print(\"RF best score: %.2f%%\" % (best_rf_score*100.0))\n",
    "print('RF best estimator:',best_rf_estimator)"
   ]
  },
  {
   "cell_type": "markdown",
   "metadata": {},
   "source": [
    "## Benchmark\n",
    "\n",
    "My benchmark for evaluating the models is an accuracy of at least 75% and a low percentage of FN as we don't need to predict that a customer may not respond to an offer while he will actually do respond."
   ]
  },
  {
   "cell_type": "markdown",
   "metadata": {},
   "source": [
    "### Models saving and loading using pickle"
   ]
  },
  {
   "cell_type": "code",
   "execution_count": 10,
   "metadata": {},
   "outputs": [],
   "source": [
    "import pickle\n",
    "\n",
    "#save to file\n",
    "with open('Logisticregression.pkl', 'wb') as file:\n",
    "    pickle.dump(lr_model, file)\n",
    "    \n",
    "with open('DecisionTree.pkl', 'wb') as file:\n",
    "    pickle.dump(dt_model, file)\n",
    "    \n",
    "with open('RandomForest.pkl', 'wb') as file:\n",
    "    pickle.dump(rf_model, file)"
   ]
  },
  {
   "cell_type": "code",
   "execution_count": 11,
   "metadata": {},
   "outputs": [],
   "source": [
    "# Load from file\n",
    "with open('Logisticregression.pkl', 'rb') as file:\n",
    "    lr_trained_model = pickle.load(file)\n",
    "    \n",
    "with open('DecisionTree.pkl', 'rb') as file:\n",
    "    dt_trained_model = pickle.load(file)\n",
    "    \n",
    "with open('RandomForest.pkl', 'rb') as file:\n",
    "    rf_trained_model = pickle.load(file)"
   ]
  },
  {
   "cell_type": "markdown",
   "metadata": {},
   "source": [
    "####  After loading the models, it's time to test each model and see check testing scores"
   ]
  },
  {
   "cell_type": "code",
   "execution_count": 12,
   "metadata": {},
   "outputs": [
    {
     "name": "stdout",
     "output_type": "stream",
     "text": [
      "LR Test score: 75.57 %\n",
      "DT Test score: 77.19 %\n",
      "RF Test score: 77.34 %\n"
     ]
    }
   ],
   "source": [
    "# Calculate the  score and predict the targets for all three trianed models\n",
    "lr_score = lr_trained_model.score(X_test, Y_test)\n",
    "print(\"LR Test score: {0:.2f} %\".format(100 * lr_score))\n",
    "lr_Y_predict = lr_trained_model.predict(X_test)\n",
    "\n",
    "dt_score = dt_trained_model.score(X_test, Y_test)\n",
    "print(\"DT Test score: {0:.2f} %\".format(100 * dt_score))\n",
    "dt_Y_predict = dt_trained_model.predict(X_test)\n",
    "\n",
    "rf_score = rf_trained_model.score(X_test, Y_test)\n",
    "print(\"RF Test score: {0:.2f} %\".format(100 * rf_score))\n",
    "rf_Y_predict = rf_trained_model.predict(X_test)\n"
   ]
  },
  {
   "cell_type": "markdown",
   "metadata": {},
   "source": [
    "### Evaluation Metrics\n",
    "\n",
    "#### We will use sklearn.metrics to help evaluating the three models and compare the results using:\n",
    "* Accuracy\n",
    "* Confusion matrix, as we want to select the model with highest TP and lowest FN count\n",
    "* Recall\n",
    "* Precision"
   ]
  },
  {
   "cell_type": "code",
   "execution_count": 13,
   "metadata": {},
   "outputs": [],
   "source": [
    "import sklearn.metrics as metrics\n",
    "from sklearn.metrics import confusion_matrix,accuracy_score,precision_score,recall_score\n",
    "\n",
    "# Calculate the metrics\n",
    "def model_eval(y_test,y_predicted):\n",
    "    accuracy = metrics.accuracy_score(y_test, y_predicted)\n",
    "    conf_matrix = metrics.confusion_matrix(y_test, y_predicted)\n",
    "    precision = metrics.precision_score(y_test, y_predicted)\n",
    "    recall = metrics.recall_score(y_test, y_predicted)\n",
    "    return accuracy,conf_matrix,precision,recall\n"
   ]
  },
  {
   "cell_type": "code",
   "execution_count": 14,
   "metadata": {},
   "outputs": [],
   "source": [
    "lr_acc,lr_conf,lr_prec,lr_rec = model_eval(Y_test,lr_Y_predict)\n",
    "dt_acc,dt_conf,dt_prec,dt_rec = model_eval(Y_test,dt_Y_predict)\n",
    "rf_acc,rf_conf,rf_prec,rf_rec = model_eval(Y_test,rf_Y_predict)"
   ]
  },
  {
   "cell_type": "code",
   "execution_count": 15,
   "metadata": {},
   "outputs": [
    {
     "data": {
      "text/html": [
       "<div>\n",
       "<style scoped>\n",
       "    .dataframe tbody tr th:only-of-type {\n",
       "        vertical-align: middle;\n",
       "    }\n",
       "\n",
       "    .dataframe tbody tr th {\n",
       "        vertical-align: top;\n",
       "    }\n",
       "\n",
       "    .dataframe thead th {\n",
       "        text-align: right;\n",
       "    }\n",
       "</style>\n",
       "<table border=\"1\" class=\"dataframe\">\n",
       "  <thead>\n",
       "    <tr style=\"text-align: right;\">\n",
       "      <th></th>\n",
       "      <th>Accuracy %</th>\n",
       "      <th>Precision</th>\n",
       "      <th>Recall</th>\n",
       "    </tr>\n",
       "  </thead>\n",
       "  <tbody>\n",
       "    <tr>\n",
       "      <th>Logistic Regression</th>\n",
       "      <td>75.57%</td>\n",
       "      <td>0.7166</td>\n",
       "      <td>0.8534</td>\n",
       "    </tr>\n",
       "    <tr>\n",
       "      <th>Decision Tree</th>\n",
       "      <td>77.19%</td>\n",
       "      <td>0.7495</td>\n",
       "      <td>0.8233</td>\n",
       "    </tr>\n",
       "    <tr>\n",
       "      <th>Random Forest</th>\n",
       "      <td>77.34%</td>\n",
       "      <td>0.7352</td>\n",
       "      <td>0.8611</td>\n",
       "    </tr>\n",
       "  </tbody>\n",
       "</table>\n",
       "</div>"
      ],
      "text/plain": [
       "                    Accuracy %  Precision  Recall\n",
       "Logistic Regression     75.57%     0.7166  0.8534\n",
       "Decision Tree           77.19%     0.7495  0.8233\n",
       "Random Forest           77.34%     0.7352  0.8611"
      ]
     },
     "metadata": {},
     "output_type": "display_data"
    }
   ],
   "source": [
    "#Compare the results in one dataframe\n",
    "model_comp_df = pd.DataFrame(\n",
    "    [[f'{lr_acc*100:.2f}%', lr_prec, lr_rec], \n",
    "    [f'{dt_acc*100:.2f}%', dt_prec, dt_rec],\n",
    "    [f'{rf_acc*100:.2f}%', rf_prec, rf_rec]],\n",
    "    columns=['Accuracy %', 'Precision', 'Recall'],\n",
    "    index=['Logistic Regression','Decision Tree','Random Forest'])\n",
    "\n",
    "pd.set_option('display.precision', 4)\n",
    "display(model_comp_df)"
   ]
  },
  {
   "cell_type": "code",
   "execution_count": 16,
   "metadata": {},
   "outputs": [],
   "source": [
    "#confusion matrix construction\n",
    "\n",
    "def conf_matrix(con_matrix, ax):\n",
    "    ax.matshow(con_matrix, cmap='BuGn')\n",
    "    ax.set_xlabel('Confusion Matrix')\n",
    "    ax.text(0, 0, f'TP\\n{con_matrix[1,1]}',\n",
    "            ha=\"center\", va=\"center\", color=\"w\")\n",
    "    ax.text(0, 1, f'FP\\n{con_matrix[0,1]}',\n",
    "            ha=\"center\", va=\"center\", color=\"k\")\n",
    "    ax.text(1, 0, f'FN\\n{con_matrix[1,0]}',\n",
    "            ha=\"center\", va=\"center\", color=\"k\")\n",
    "    ax.text(1, 1,f'TN\\n{con_matrix[0,0] }',\n",
    "            ha=\"center\", va=\"center\", color=\"w\")"
   ]
  },
  {
   "cell_type": "code",
   "execution_count": 17,
   "metadata": {},
   "outputs": [
    {
     "data": {
      "image/png": "[encoded data removed]",
      "text/plain": [
       "<Figure size 792x576 with 3 Axes>"
      ]
     },
     "metadata": {},
     "output_type": "display_data"
    }
   ],
   "source": [
    "fig, axs = plt.subplots(nrows=1, ncols=3)\n",
    "\n",
    "conf_matrix(lr_conf, axs[0]) \n",
    "axs[0].set_title('Logistic regression\\n')\n",
    "\n",
    "conf_matrix(dt_conf, axs[1])\n",
    "axs[1].set_title('Decision Tree\\n')\n",
    "\n",
    "conf_matrix(rf_conf, axs[2])\n",
    "axs[2].set_title('Random Forest\\n')\n",
    "\n",
    "fig.set_size_inches(11,8)\n",
    "plt.show()"
   ]
  },
  {
   "cell_type": "markdown",
   "metadata": {},
   "source": [
    "#### The confusion matrix shows that the random forest has the highest accuracy 77.3% and TP count 4800 and the lowest FN count 774."
   ]
  },
  {
   "cell_type": "markdown",
   "metadata": {},
   "source": [
    "### Model refinement \n",
    "\n",
    "Since the highest accuracy belongs to the Random forest model, we will take this model and apply some refinement on by changing the hyperparameters and check if we can get a higher accuracy or not."
   ]
  },
  {
   "cell_type": "code",
   "execution_count": 18,
   "metadata": {},
   "outputs": [
    {
     "data": {
      "text/plain": [
       "array([0.75255772, 0.75325969, 0.76005071, 0.76294821])"
      ]
     },
     "metadata": {},
     "output_type": "display_data"
    },
    {
     "name": "stdout",
     "output_type": "stream",
     "text": [
      "Min Accuracy: 75.72%\n"
     ]
    }
   ],
   "source": [
    "from sklearn.ensemble import RandomForestClassifier\n",
    "rf_refined= RandomForestClassifier()\n",
    "scores_arr = cross_val_score(rf_refined,X_train,Y_train,cv=4,n_jobs=-1)\n",
    "display(scores_arr)\n",
    "print(\"Min Accuracy: %.2f%%\" % (scores_arr.mean()*100.0))"
   ]
  },
  {
   "cell_type": "code",
   "execution_count": 19,
   "metadata": {},
   "outputs": [
    {
     "name": "stderr",
     "output_type": "stream",
     "text": [
      "/home/ec2-user/anaconda3/envs/python3/lib/python3.6/site-packages/sklearn/externals/joblib/externals/loky/process_executor.py:706: UserWarning: A worker stopped while some jobs were given to the executor. This can be caused by a too short worker timeout or by a memory leak.\n",
      "  \"timeout or by a memory leak.\", UserWarning\n"
     ]
    },
    {
     "name": "stdout",
     "output_type": "stream",
     "text": [
      "RF best parameter: {'criterion': 'entropy', 'max_depth': 14, 'min_samples_split': 14, 'n_estimators': 250}\n",
      "RF best score: 77.10%\n",
      "RF best estimator: RandomForestClassifier(bootstrap=True, class_weight=None, criterion='entropy',\n",
      "            max_depth=14, max_features='auto', max_leaf_nodes=None,\n",
      "            min_impurity_decrease=0.0, min_impurity_split=None,\n",
      "            min_samples_leaf=1, min_samples_split=14,\n",
      "            min_weight_fraction_leaf=0.0, n_estimators=250, n_jobs=None,\n",
      "            oob_score=False, random_state=None, verbose=0,\n",
      "            warm_start=False)\n"
     ]
    }
   ],
   "source": [
    "#Grid search to find the best parameters to fit to maximize the cross validation scores\n",
    "gridsearch_param = {\n",
    "    'max_depth': [14,16,18,20],\n",
    "    'n_estimators' : [250,300,350,400],\n",
    "    'min_samples_split' : np.arange(14,15,16),\n",
    "    'criterion' : ['gini', 'entropy']\n",
    "}\n",
    "\n",
    "gsv_rf_refined = GridSearchCV(estimator=rf_refined,param_grid=gridsearch_param,\\\n",
    "                   cv=4, n_jobs=-1)\n",
    "\n",
    "rf_model_refined = gsv_rf_refined.fit(X_train,Y_train)\n",
    "\n",
    "\n",
    "best_rf_refined_parameters = gsv_rf_refined.best_params_\n",
    "best_rf_refined_score = gsv_rf_refined.best_score_\n",
    "best_rf_refined_estimator = gsv_rf_refined.best_estimator_\n",
    "\n",
    "print('RF best parameter:',best_rf_refined_parameters)\n",
    "print(\"RF best score: %.2f%%\" % (best_rf_refined_score*100.0))\n",
    "print('RF best estimator:',best_rf_refined_estimator)"
   ]
  },
  {
   "cell_type": "markdown",
   "metadata": {},
   "source": [
    "#### The trained first Random Forest model had better accuracy than the refined one, and since the Gridsearch technique applys all iterations given, we can give it another try by reducing the values of the hyperparameters instead of increasing them."
   ]
  },
  {
   "cell_type": "code",
   "execution_count": 20,
   "metadata": {},
   "outputs": [
    {
     "data": {
      "text/plain": [
       "array([0.75237664, 0.75706266, 0.76439696, 0.76376313])"
      ]
     },
     "metadata": {},
     "output_type": "display_data"
    },
    {
     "name": "stdout",
     "output_type": "stream",
     "text": [
      "Min Accuracy: 75.94%\n"
     ]
    }
   ],
   "source": [
    "from sklearn.ensemble import RandomForestClassifier\n",
    "rf_refined1= RandomForestClassifier()\n",
    "scores_arr = cross_val_score(rf_refined1,X_train,Y_train,cv=4,n_jobs=-1)\n",
    "display(scores_arr)\n",
    "print(\"Min Accuracy: %.2f%%\" % (scores_arr.mean()*100.0))"
   ]
  },
  {
   "cell_type": "code",
   "execution_count": 21,
   "metadata": {},
   "outputs": [
    {
     "name": "stdout",
     "output_type": "stream",
     "text": [
      "RF best parameter: {'criterion': 'entropy', 'max_depth': 9, 'min_samples_split': 4, 'n_estimators': 20}\n",
      "RF best score: 77.15%\n",
      "RF best estimator: RandomForestClassifier(bootstrap=True, class_weight=None, criterion='entropy',\n",
      "            max_depth=9, max_features='auto', max_leaf_nodes=None,\n",
      "            min_impurity_decrease=0.0, min_impurity_split=None,\n",
      "            min_samples_leaf=1, min_samples_split=4,\n",
      "            min_weight_fraction_leaf=0.0, n_estimators=20, n_jobs=None,\n",
      "            oob_score=False, random_state=None, verbose=0,\n",
      "            warm_start=False)\n"
     ]
    }
   ],
   "source": [
    "#Grid search to find the best parameters to fit to maximize the cross validation scores\n",
    "gridsearch_param = {\n",
    "    'max_depth': [8,9],\n",
    "    'n_estimators' : [10,20,30],\n",
    "    'min_samples_split' : np.arange(4,5,6),\n",
    "    'criterion' : ['gini', 'entropy']\n",
    "}\n",
    "\n",
    "gsv_rf_refined1 = GridSearchCV(estimator=rf_refined1,param_grid=gridsearch_param,\\\n",
    "                   cv=4, n_jobs=-1)\n",
    "\n",
    "rf_model_refined1 = gsv_rf_refined1.fit(X_train,Y_train)\n",
    "\n",
    "\n",
    "best_rf_refined_param = gsv_rf_refined1.best_params_\n",
    "best_rf_refined_sc = gsv_rf_refined1.best_score_\n",
    "best_rf_refined_est = gsv_rf_refined1.best_estimator_\n",
    "\n",
    "print('RF best parameter:',best_rf_refined_param)\n",
    "print(\"RF best score: %.2f%%\" % (best_rf_refined_sc*100.0))\n",
    "print('RF best estimator:',best_rf_refined_est)"
   ]
  },
  {
   "cell_type": "markdown",
   "metadata": {},
   "source": [
    "#### Still the 1st trained Random Forest model has the highest accuracy, so no more refinement needed."
   ]
  },
  {
   "cell_type": "markdown",
   "metadata": {},
   "source": [
    "### Conclusion\n",
    "\n",
    "In this project I addressed the problem of not all customers respond to the offers sent by merchants the same way.Some customers don’t view the offers because they are not interested, others may be not interested in that particular offer they received. \n",
    "My model will predict and identify whether the customer will respond and complete these offers or not.\n",
    "\n",
    "First, I downloaded the datasets and explored each of them and started to eliminate some of the non-related features and to normalize other features that has non-numeric values in order to be able to feed the models with more meaningful data.\n",
    "After that I merged the three datasets into one grouped by customers that simply illustrate the relation between the customer demographic data, his/her previous transactions and reponses to offers and the offers discriptive data.\n",
    "\n",
    "I chose to train 3 models for this binary classification problem: Logisctic Regression, Decision tree and Random Forest.\n",
    "\n",
    "I chose to use the Cross Validation for training and splitting my data to choose the best folds to train, which helped in improving the training/learning accuracy of my models.\n",
    "Then, I decided to work with Grid search to find the best model hyperparameters which also helped in improving the accuracy of my models, it saved me a lot of time and gave me a clear view of the best hyperparameters to use.\n",
    "\n",
    "The Random Forest model performed the best with a testing accuracy of 77.34% and a very small FN percentage of 16%.\n",
    "\n",
    "As an improvement to the model, I can only think of other features that may help in training the model, for example: we can create features that describe the frequency of the customer visits to Starbucks in a month and another feature to describe the payment method (cash/CC).\n",
    "\n",
    "\n",
    "\n",
    "\n",
    "\n"
   ]
  }
 ],
 "metadata": {
  "kernelspec": {
   "display_name": "conda_python3",
   "language": "python",
   "name": "conda_python3"
  },
  "language_info": {
   "codemirror_mode": {
    "name": "ipython",
    "version": 3
   },
   "file_extension": ".py",
   "mimetype": "text/x-python",
   "name": "python",
   "nbconvert_exporter": "python",
   "pygments_lexer": "ipython3",
   "version": "3.6.5"
  }
 },
 "nbformat": 4,
 "nbformat_minor": 4
}
